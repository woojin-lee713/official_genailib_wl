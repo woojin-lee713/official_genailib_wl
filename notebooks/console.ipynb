{
 "cells": [
  {
   "cell_type": "markdown",
   "id": "76a4711c-d94c-4f9b-b310-f082bf2a3f62",
   "metadata": {},
   "source": [
    "---\n",
    "title: Console Module\n",
    "---"
   ]
  },
  {
   "cell_type": "code",
   "execution_count": 2,
   "id": "3d58eb53-454e-481d-93dc-73454b1aa079",
   "metadata": {},
   "outputs": [],
   "source": [
    "from genailib_wl_folder.console import main"
   ]
  },
  {
   "cell_type": "code",
   "execution_count": 7,
   "id": "38bc78d0-1b90-4c3b-a387-ed30aa1f1a11",
   "metadata": {},
   "outputs": [],
   "source": [
    "from nbdev import show_doc\n"
   ]
  },
  {
   "cell_type": "code",
   "execution_count": 8,
   "id": "b56e38be-e617-41ce-af14-992eb272472b",
   "metadata": {},
   "outputs": [
    {
     "data": {
      "text/markdown": [
       "---\n",
       "\n",
       "### <Command main>\n",
       "\n",
       ">      <Command main> (*args:Any, **kwargs:Any)\n",
       "\n",
       "*This is the console interface to 'random_page' function in wikipedia.py\n",
       "\n",
       "it comes in cool colors*"
      ],
      "text/plain": [
       "---\n",
       "\n",
       "### <Command main>\n",
       "\n",
       ">      <Command main> (*args:Any, **kwargs:Any)\n",
       "\n",
       "*This is the console interface to 'random_page' function in wikipedia.py\n",
       "\n",
       "it comes in cool colors*"
      ]
     },
     "execution_count": 8,
     "metadata": {},
     "output_type": "execute_result"
    }
   ],
   "source": [
    "show_doc(main)"
   ]
  },
  {
   "cell_type": "markdown",
   "id": "7986a1fc-5760-4d49-87da-7bc0cedcd21c",
   "metadata": {},
   "source": [
    "## Examples"
   ]
  },
  {
   "cell_type": "code",
   "execution_count": null,
   "id": "8b1ad43a-5e52-4e3d-bc8c-b7a7726bc7b7",
   "metadata": {},
   "outputs": [],
   "source": [
    "CliRunner.invoke(main)"
   ]
  }
 ],
 "metadata": {
  "kernelspec": {
   "display_name": "Python 3 (ipykernel)",
   "language": "python",
   "name": "python3"
  },
  "language_info": {
   "codemirror_mode": {
    "name": "ipython",
    "version": 3
   },
   "file_extension": ".py",
   "mimetype": "text/x-python",
   "name": "python",
   "nbconvert_exporter": "python",
   "pygments_lexer": "ipython3",
   "version": "3.12.3"
  }
 },
 "nbformat": 4,
 "nbformat_minor": 5
}
